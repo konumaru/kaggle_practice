{
 "cells": [
  {
   "cell_type": "code",
   "execution_count": 5,
   "metadata": {},
   "outputs": [],
   "source": [
    "import os\n",
    "import sys\n",
    "\n",
    "sys.path.append(\"../..\")\n",
    "\n",
    "import numpy as np \n",
    "import pandas as pd\n",
    "from mikasa.io import load_pickle, dump_pickle"
   ]
  },
  {
   "cell_type": "code",
   "execution_count": 6,
   "metadata": {},
   "outputs": [
    {
     "name": "stdout",
     "output_type": "stream",
     "text": [
      "Load pickle from ../data/feature/target.pkl\n"
     ]
    }
   ],
   "source": [
    "oof = pd.read_csv('../data/working/oof.csv')\n",
    "y = load_pickle(\"../data/feature/target.pkl\")"
   ]
  },
  {
   "cell_type": "code",
   "execution_count": 7,
   "metadata": {},
   "outputs": [
    {
     "data": {
      "text/html": [
       "<div>\n",
       "<style scoped>\n",
       "    .dataframe tbody tr th:only-of-type {\n",
       "        vertical-align: middle;\n",
       "    }\n",
       "\n",
       "    .dataframe tbody tr th {\n",
       "        vertical-align: top;\n",
       "    }\n",
       "\n",
       "    .dataframe thead th {\n",
       "        text-align: right;\n",
       "    }\n",
       "</style>\n",
       "<table border=\"1\" class=\"dataframe\">\n",
       "  <thead>\n",
       "    <tr style=\"text-align: right;\">\n",
       "      <th></th>\n",
       "      <th>LR</th>\n",
       "      <th>RF</th>\n",
       "      <th>LGBM</th>\n",
       "      <th>XGB</th>\n",
       "    </tr>\n",
       "  </thead>\n",
       "  <tbody>\n",
       "    <tr>\n",
       "      <th>0</th>\n",
       "      <td>0.092186</td>\n",
       "      <td>0.126112</td>\n",
       "      <td>0.066892</td>\n",
       "      <td>0.082665</td>\n",
       "    </tr>\n",
       "    <tr>\n",
       "      <th>1</th>\n",
       "      <td>0.914150</td>\n",
       "      <td>0.914171</td>\n",
       "      <td>0.979135</td>\n",
       "      <td>0.988178</td>\n",
       "    </tr>\n",
       "    <tr>\n",
       "      <th>2</th>\n",
       "      <td>0.617613</td>\n",
       "      <td>0.424315</td>\n",
       "      <td>0.514993</td>\n",
       "      <td>0.598507</td>\n",
       "    </tr>\n",
       "    <tr>\n",
       "      <th>3</th>\n",
       "      <td>0.891066</td>\n",
       "      <td>0.856954</td>\n",
       "      <td>0.969985</td>\n",
       "      <td>0.990880</td>\n",
       "    </tr>\n",
       "    <tr>\n",
       "      <th>4</th>\n",
       "      <td>0.081696</td>\n",
       "      <td>0.131179</td>\n",
       "      <td>0.178577</td>\n",
       "      <td>0.188030</td>\n",
       "    </tr>\n",
       "    <tr>\n",
       "      <th>...</th>\n",
       "      <td>...</td>\n",
       "      <td>...</td>\n",
       "      <td>...</td>\n",
       "      <td>...</td>\n",
       "    </tr>\n",
       "    <tr>\n",
       "      <th>886</th>\n",
       "      <td>0.289567</td>\n",
       "      <td>0.207854</td>\n",
       "      <td>0.168765</td>\n",
       "      <td>0.164623</td>\n",
       "    </tr>\n",
       "    <tr>\n",
       "      <th>887</th>\n",
       "      <td>0.951497</td>\n",
       "      <td>0.805728</td>\n",
       "      <td>0.910546</td>\n",
       "      <td>0.951710</td>\n",
       "    </tr>\n",
       "    <tr>\n",
       "      <th>888</th>\n",
       "      <td>0.499508</td>\n",
       "      <td>0.394614</td>\n",
       "      <td>0.522341</td>\n",
       "      <td>0.281549</td>\n",
       "    </tr>\n",
       "    <tr>\n",
       "      <th>889</th>\n",
       "      <td>0.584714</td>\n",
       "      <td>0.431946</td>\n",
       "      <td>0.424761</td>\n",
       "      <td>0.541064</td>\n",
       "    </tr>\n",
       "    <tr>\n",
       "      <th>890</th>\n",
       "      <td>0.140728</td>\n",
       "      <td>0.196593</td>\n",
       "      <td>0.118612</td>\n",
       "      <td>0.150446</td>\n",
       "    </tr>\n",
       "  </tbody>\n",
       "</table>\n",
       "<p>891 rows × 4 columns</p>\n",
       "</div>"
      ],
      "text/plain": [
       "           LR        RF      LGBM       XGB\n",
       "0    0.092186  0.126112  0.066892  0.082665\n",
       "1    0.914150  0.914171  0.979135  0.988178\n",
       "2    0.617613  0.424315  0.514993  0.598507\n",
       "3    0.891066  0.856954  0.969985  0.990880\n",
       "4    0.081696  0.131179  0.178577  0.188030\n",
       "..        ...       ...       ...       ...\n",
       "886  0.289567  0.207854  0.168765  0.164623\n",
       "887  0.951497  0.805728  0.910546  0.951710\n",
       "888  0.499508  0.394614  0.522341  0.281549\n",
       "889  0.584714  0.431946  0.424761  0.541064\n",
       "890  0.140728  0.196593  0.118612  0.150446\n",
       "\n",
       "[891 rows x 4 columns]"
      ]
     },
     "execution_count": 7,
     "metadata": {},
     "output_type": "execute_result"
    }
   ],
   "source": [
    "oof"
   ]
  },
  {
   "cell_type": "code",
   "execution_count": 48,
   "metadata": {},
   "outputs": [
    {
     "name": "stdout",
     "output_type": "stream",
     "text": [
      "Simple Average Score:\n"
     ]
    },
    {
     "data": {
      "text/plain": [
       "0.8361391694725028"
      ]
     },
     "execution_count": 48,
     "metadata": {},
     "output_type": "execute_result"
    }
   ],
   "source": [
    "print(\"Simple Average Score:\")\n",
    "accuracy_score(y, (oof.mean(axis=1) > 0.5))"
   ]
  },
  {
   "cell_type": "markdown",
   "metadata": {},
   "source": [
    "## Optimize Weight"
   ]
  },
  {
   "cell_type": "code",
   "execution_count": 77,
   "metadata": {},
   "outputs": [],
   "source": [
    "from scipy.optimize import minimize\n",
    "from sklearn.metrics import accuracy_score\n",
    "from sklearn.metrics import roc_auc_score\n",
    "\n",
    "predictions = oof.T.to_numpy()\n",
    "len_prediction = len(predictions)\n",
    "\n",
    "def metric_func(weights):\n",
    "    ''' scipy minimize will pass the weights as a numpy array '''\n",
    "    final_prediction = 0\n",
    "    for weight, prediction in zip(weights, predictions):\n",
    "        final_prediction += weight * prediction\n",
    "        \n",
    "    final_prediction = accuracy_score(y, (final_prediction > 0.5))\n",
    "    return final_prediction\n",
    "\n",
    "\n",
    "lls = []\n",
    "wghts = []\n",
    "for i in range(1000):\n",
    "    bounds = [(0, 1) for _ in range(len(predictions))]\n",
    "    starting_values = np.ones(len_prediction) / len_prediction\n",
    "    res = minimize(metric_func, starting_values, method='L-BFGS-B', bounds=bounds)\n",
    "    \n",
    "    lls.append(res['fun'])\n",
    "    wghts.append(res['x'])"
   ]
  },
  {
   "cell_type": "code",
   "execution_count": 75,
   "metadata": {},
   "outputs": [
    {
     "name": "stdout",
     "output_type": "stream",
     "text": [
      "\n",
      " Ensemble Score: 0.8361391694725028\n",
      "\n",
      " Best Weights: [0.25 0.25 0.25 0.25]\n"
     ]
    }
   ],
   "source": [
    "bestSC = np.min(lls)\n",
    "bestWght = wghts[np.argmin(lls)]\n",
    "\n",
    "print('\\n Ensemble Score: {best_score}'.format(best_score=bestSC))\n",
    "print('\\n Best Weights: {weights}'.format(weights=bestWght))"
   ]
  },
  {
   "cell_type": "markdown",
   "metadata": {},
   "source": [
    "## Optimize Threshold"
   ]
  },
  {
   "cell_type": "code",
   "execution_count": 72,
   "metadata": {},
   "outputs": [],
   "source": [
    "from scipy.optimize import minimize\n",
    "from sklearn.metrics import accuracy_score\n",
    "from sklearn.metrics import roc_auc_score\n",
    "\n",
    "prediction = oof.mean(axis=1).to_numpy()\n",
    "\n",
    "def metric_func(weight):\n",
    "    final_prediction = accuracy_score(y, (prediction > weight))\n",
    "    return final_prediction\n",
    "\n",
    "lls = []\n",
    "wghts = []\n",
    "for i in range(1000):\n",
    "    starting_values = np.array([0.5])\n",
    "    res = minimize(metric_func, starting_values, method='L-BFGS-B', bounds=bounds)\n",
    "    \n",
    "    lls.append(res['fun'])\n",
    "    wghts.append(res['x'])"
   ]
  },
  {
   "cell_type": "code",
   "execution_count": 73,
   "metadata": {},
   "outputs": [
    {
     "name": "stdout",
     "output_type": "stream",
     "text": [
      "\n",
      " Ensemble Score: 0.8361391694725028\n",
      "\n",
      " Best Weights: [0.5]\n"
     ]
    }
   ],
   "source": [
    "bestSC = np.min(lls)\n",
    "bestWght = wghts[np.argmin(lls)]\n",
    "\n",
    "print('\\n Ensemble Score: {best_score}'.format(best_score=bestSC))\n",
    "print('\\n Best Weights: {weights}'.format(weights=bestWght))"
   ]
  }
 ],
 "metadata": {
  "kernelspec": {
   "display_name": "Python 3",
   "language": "python",
   "name": "python3"
  },
  "language_info": {
   "codemirror_mode": {
    "name": "ipython",
    "version": 3
   },
   "file_extension": ".py",
   "mimetype": "text/x-python",
   "name": "python",
   "nbconvert_exporter": "python",
   "pygments_lexer": "ipython3",
   "version": "3.9.0"
  }
 },
 "nbformat": 4,
 "nbformat_minor": 4
}
